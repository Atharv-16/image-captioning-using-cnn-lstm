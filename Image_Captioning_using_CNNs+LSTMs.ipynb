{
  "metadata": {
    "kernelspec": {
      "language": "python",
      "display_name": "Python 3",
      "name": "python3"
    },
    "language_info": {
      "pygments_lexer": "ipython3",
      "nbconvert_exporter": "python",
      "version": "3.6.4",
      "file_extension": ".py",
      "codemirror_mode": {
        "name": "ipython",
        "version": 3
      },
      "name": "python",
      "mimetype": "text/x-python"
    },
    "kaggle": {
      "accelerator": "gpu",
      "dataSources": [
        {
          "sourceId": 39911,
          "sourceType": "datasetVersion",
          "datasetId": 31296
        },
        {
          "sourceId": 1111676,
          "sourceType": "datasetVersion",
          "datasetId": 623289
        }
      ],
      "dockerImageVersionId": 30198,
      "isInternetEnabled": true,
      "language": "python",
      "sourceType": "notebook",
      "isGpuEnabled": true
    },
    "colab": {
      "provenance": [],
      "include_colab_link": true
    }
  },
  "nbformat_minor": 0,
  "nbformat": 4,
  "cells": [
    {
      "cell_type": "markdown",
      "metadata": {
        "id": "view-in-github",
        "colab_type": "text"
      },
      "source": [
        "<a href=\"https://colab.research.google.com/github/Atharv-16/image-captioning-using-cnn-lstm/blob/main/Image_Captioning_using_CNNs%2BLSTMs.ipynb\" target=\"_parent\"><img src=\"https://colab.research.google.com/assets/colab-badge.svg\" alt=\"Open In Colab\"/></a>"
      ]
    },
    {
      "source": [
        "\n",
        "# IMPORTANT: RUN THIS CELL IN ORDER TO IMPORT YOUR KAGGLE DATA SOURCES\n",
        "# TO THE CORRECT LOCATION (/kaggle/input) IN YOUR NOTEBOOK,\n",
        "# THEN FEEL FREE TO DELETE THIS CELL.\n",
        "# NOTE: THIS NOTEBOOK ENVIRONMENT DIFFERS FROM KAGGLE'S PYTHON\n",
        "# ENVIRONMENT SO THERE MAY BE MISSING LIBRARIES USED BY YOUR\n",
        "# NOTEBOOK.\n",
        "\n",
        "import os\n",
        "import sys\n",
        "from tempfile import NamedTemporaryFile\n",
        "from urllib.request import urlopen\n",
        "from urllib.parse import unquote, urlparse\n",
        "from urllib.error import HTTPError\n",
        "from zipfile import ZipFile\n",
        "import tarfile\n",
        "import shutil\n",
        "\n",
        "CHUNK_SIZE = 40960\n",
        "DATA_SOURCE_MAPPING = 'flickr-image-dataset:https%3A%2F%2Fstorage.googleapis.com%2Fkaggle-data-sets%2F31296%2F39911%2Fbundle%2Farchive.zip%3FX-Goog-Algorithm%3DGOOG4-RSA-SHA256%26X-Goog-Credential%3Dgcp-kaggle-com%2540kaggle-161607.iam.gserviceaccount.com%252F20240131%252Fauto%252Fstorage%252Fgoog4_request%26X-Goog-Date%3D20240131T170945Z%26X-Goog-Expires%3D259200%26X-Goog-SignedHeaders%3Dhost%26X-Goog-Signature%3D2fde8a8d98a516751c66e4035052e2af8687c5d919d4b0a67d56aaec44ed618ba37f48b22f06d7f21719cf831aa027370627700af56f6dc7ee05d16fb506e3910634d95940f24664b6a5f667eeb14c30c2bf1929d8e418baafbe748a6e88460c26a277e0e8dcc26ad6521022168525b84602b8ddf9c1b223aa78309d6792ace19865230c7a9d12006d906be0c055b80a88df10194dfb30c7b8c9e43c2194596f6836b87661edf181e3a3d4ecdf86d0d9182c5396ddec21ba16d08e83f0c74b76508e44a8749460fa1efe80e44a76318e38c2b6bb39f98de35841f8e6705b2dd0cbb03c153faf9c61d3970204368d5bfd3b77df7956ad08bdb9a48ff630be9923,flickr8k:https%3A%2F%2Fstorage.googleapis.com%2Fkaggle-data-sets%2F623289%2F1111676%2Fbundle%2Farchive.zip%3FX-Goog-Algorithm%3DGOOG4-RSA-SHA256%26X-Goog-Credential%3Dgcp-kaggle-com%2540kaggle-161607.iam.gserviceaccount.com%252F20240131%252Fauto%252Fstorage%252Fgoog4_request%26X-Goog-Date%3D20240131T170945Z%26X-Goog-Expires%3D259200%26X-Goog-SignedHeaders%3Dhost%26X-Goog-Signature%3D0d6c089fbfcb72b384e3584e8665d5258c5edec1f9cc4e38928a3d8bf9f3114cb658a1cd4a6b91a46a503f8b7c3fcb408cc505638fbc45838f1301367e0dc377e8dd5ad2ea27b00387d549e75c1c53777f25b885ef2b076dfb85bfab23e2736d7d09701b1325ed23763e896b0bc400cbf12a93a1330ec6e42195e0e84ecf318e61a86bfe0cda029c44ccf94838e1ae1a3a687dcddfcb6f8d08081dcbee35cb87da9e4aecdf14d0e07ee2e909c5a6573fa55306742f1ca9378dc260305eb3e3fa25e15bdd097ba31567b8a8bd1e45616f7a4afe5fe751c57be10d72a9014b1e23ee478e2149a7883af7aa22e22f2eb884c230a82fb3ed3fe0e9a4f6bce2299272'\n",
        "\n",
        "KAGGLE_INPUT_PATH='/kaggle/input'\n",
        "KAGGLE_WORKING_PATH='/kaggle/working'\n",
        "KAGGLE_SYMLINK='kaggle'\n",
        "\n",
        "!umount /kaggle/input/ 2> /dev/null\n",
        "shutil.rmtree('/kaggle/input', ignore_errors=True)\n",
        "os.makedirs(KAGGLE_INPUT_PATH, 0o777, exist_ok=True)\n",
        "os.makedirs(KAGGLE_WORKING_PATH, 0o777, exist_ok=True)\n",
        "\n",
        "try:\n",
        "  os.symlink(KAGGLE_INPUT_PATH, os.path.join(\"..\", 'input'), target_is_directory=True)\n",
        "except FileExistsError:\n",
        "  pass\n",
        "try:\n",
        "  os.symlink(KAGGLE_WORKING_PATH, os.path.join(\"..\", 'working'), target_is_directory=True)\n",
        "except FileExistsError:\n",
        "  pass\n",
        "\n",
        "for data_source_mapping in DATA_SOURCE_MAPPING.split(','):\n",
        "    directory, download_url_encoded = data_source_mapping.split(':')\n",
        "    download_url = unquote(download_url_encoded)\n",
        "    filename = urlparse(download_url).path\n",
        "    destination_path = os.path.join(KAGGLE_INPUT_PATH, directory)\n",
        "    try:\n",
        "        with urlopen(download_url) as fileres, NamedTemporaryFile() as tfile:\n",
        "            total_length = fileres.headers['content-length']\n",
        "            print(f'Downloading {directory}, {total_length} bytes compressed')\n",
        "            dl = 0\n",
        "            data = fileres.read(CHUNK_SIZE)\n",
        "            while len(data) > 0:\n",
        "                dl += len(data)\n",
        "                tfile.write(data)\n",
        "                done = int(50 * dl / int(total_length))\n",
        "                sys.stdout.write(f\"\\r[{'=' * done}{' ' * (50-done)}] {dl} bytes downloaded\")\n",
        "                sys.stdout.flush()\n",
        "                data = fileres.read(CHUNK_SIZE)\n",
        "            if filename.endswith('.zip'):\n",
        "              with ZipFile(tfile) as zfile:\n",
        "                zfile.extractall(destination_path)\n",
        "            else:\n",
        "              with tarfile.open(tfile.name) as tarfile:\n",
        "                tarfile.extractall(destination_path)\n",
        "            print(f'\\nDownloaded and uncompressed: {directory}')\n",
        "    except HTTPError as e:\n",
        "        print(f'Failed to load (likely expired) {download_url} to path {destination_path}')\n",
        "        continue\n",
        "    except OSError as e:\n",
        "        print(f'Failed to load {download_url} to path {destination_path}')\n",
        "        continue\n",
        "\n",
        "print('Data source import complete.')\n"
      ],
      "metadata": {
        "id": "SlHlzycTgVJH"
      },
      "cell_type": "code",
      "outputs": [],
      "execution_count": null
    },
    {
      "cell_type": "code",
      "source": [
        "import numpy as np\n",
        "import pandas as pd\n",
        "import os\n",
        "import tensorflow as tf\n",
        "from tqdm import tqdm\n",
        "from tensorflow.keras.preprocessing.image import ImageDataGenerator, load_img, img_to_array\n",
        "from tensorflow.keras.preprocessing.text import Tokenizer\n",
        "from tensorflow.keras.preprocessing.sequence import pad_sequences\n",
        "from tensorflow.keras.utils import Sequence\n",
        "from tensorflow.keras.utils import to_categorical\n",
        "from tensorflow.keras.models import Sequential, Model\n",
        "from tensorflow.keras.layers import Conv2D, MaxPooling2D, GlobalAveragePooling2D, Activation, Dropout, Flatten, Dense, Input, Layer\n",
        "from tensorflow.keras.layers import Embedding, LSTM, add, Concatenate, Reshape, concatenate, Bidirectional\n",
        "from tensorflow.keras.applications import VGG16, ResNet50, DenseNet201\n",
        "from tensorflow.keras.optimizers import Adam\n",
        "from tensorflow.keras.callbacks import ModelCheckpoint, EarlyStopping, ReduceLROnPlateau\n",
        "import warnings\n",
        "import matplotlib.pyplot as plt\n",
        "import seaborn as sns\n",
        "from textwrap import wrap\n",
        "\n",
        "plt.rcParams['font.size'] = 12\n",
        "sns.set_style(\"dark\")\n",
        "warnings.filterwarnings('ignore')"
      ],
      "metadata": {
        "_uuid": "8f2839f25d086af736a60e9eeb907d3b93b6e0e5",
        "_cell_guid": "b1076dfc-b9ad-4769-8c92-a6c4dae69d19",
        "execution": {
          "iopub.status.busy": "2022-08-23T11:23:20.240075Z",
          "iopub.execute_input": "2022-08-23T11:23:20.240687Z",
          "iopub.status.idle": "2022-08-23T11:23:27.839141Z",
          "shell.execute_reply.started": "2022-08-23T11:23:20.240606Z",
          "shell.execute_reply": "2022-08-23T11:23:27.837973Z"
        },
        "trusted": true,
        "id": "oJv0TMDHgVJJ"
      },
      "execution_count": null,
      "outputs": []
    },
    {
      "cell_type": "markdown",
      "source": [
        "# **Image Captioning**\n",
        "\n",
        "**What is Image Captioning ?**\n",
        "- Image Captioning is the process of generating textual description of an image. It uses both Natural Language Processing and Computer Vision to generate the captions.\n",
        "- This task lies at the intersection of computer vision and natural language processing. Most image captioning systems use an encoder-decoder framework, where an input image is encoded into an intermediate representation of the information in the image, and then decoded into a descriptive text sequence.\n",
        "\n",
        "**CNNs + RNNs (LSTMs)**\n",
        "- To perform Image Captioning we will require two deep learning models combined into one for the training purpose\n",
        "- CNNs extract the features from the image of some vector size aka the vector embeddings. The size of these embeddings depend on the type of pretrained network being used for the feature extraction\n",
        "- LSTMs are used for the text generation process. The image embeddings are concatenated with the word embeddings and passed to the LSTM to generate the next word\n",
        "- For a more illustrative explanation of this architecture check the Modelling section for a picture representation"
      ],
      "metadata": {
        "id": "5px4Sgz9gVJK"
      }
    },
    {
      "cell_type": "markdown",
      "source": [
        "<img src=\"https://miro.medium.com/max/1400/1*6BFOIdSHlk24Z3DFEakvnQ.png\">"
      ],
      "metadata": {
        "id": "Uq8uLGG2gVJM"
      }
    },
    {
      "cell_type": "code",
      "source": [
        "image_path = '../input/flickr8k/Images'"
      ],
      "metadata": {
        "execution": {
          "iopub.status.busy": "2022-08-23T11:23:27.841813Z",
          "iopub.execute_input": "2022-08-23T11:23:27.842707Z",
          "iopub.status.idle": "2022-08-23T11:23:27.846691Z",
          "shell.execute_reply.started": "2022-08-23T11:23:27.842668Z",
          "shell.execute_reply": "2022-08-23T11:23:27.845918Z"
        },
        "trusted": true,
        "id": "IztCUdpDgVJN"
      },
      "execution_count": null,
      "outputs": []
    },
    {
      "cell_type": "code",
      "source": [
        "data = pd.read_csv(\"../input/flickr8k/captions.txt\")\n",
        "data.head()"
      ],
      "metadata": {
        "execution": {
          "iopub.status.busy": "2022-08-23T11:23:27.848057Z",
          "iopub.execute_input": "2022-08-23T11:23:27.848663Z",
          "iopub.status.idle": "2022-08-23T11:23:27.966722Z",
          "shell.execute_reply.started": "2022-08-23T11:23:27.848617Z",
          "shell.execute_reply": "2022-08-23T11:23:27.965974Z"
        },
        "trusted": true,
        "id": "miO6bhuhgVJN"
      },
      "execution_count": null,
      "outputs": []
    },
    {
      "cell_type": "code",
      "source": [
        "def readImage(path,img_size=224):\n",
        "    img = load_img(path,color_mode='rgb',target_size=(img_size,img_size))\n",
        "    img = img_to_array(img)\n",
        "    img = img/255.\n",
        "\n",
        "    return img\n",
        "\n",
        "def display_images(temp_df):\n",
        "    temp_df = temp_df.reset_index(drop=True)\n",
        "    plt.figure(figsize = (20 , 20))\n",
        "    n = 0\n",
        "    for i in range(15):\n",
        "        n+=1\n",
        "        plt.subplot(5 , 5, n)\n",
        "        plt.subplots_adjust(hspace = 0.7, wspace = 0.3)\n",
        "        image = readImage(f\"../input/flickr8k/Images/{temp_df.image[i]}\")\n",
        "        plt.imshow(image)\n",
        "        plt.title(\"\\n\".join(wrap(temp_df.caption[i], 20)))\n",
        "        plt.axis(\"off\")"
      ],
      "metadata": {
        "execution": {
          "iopub.status.busy": "2022-08-23T11:23:27.968619Z",
          "iopub.execute_input": "2022-08-23T11:23:27.969054Z",
          "iopub.status.idle": "2022-08-23T11:23:27.976892Z",
          "shell.execute_reply.started": "2022-08-23T11:23:27.969018Z",
          "shell.execute_reply": "2022-08-23T11:23:27.975608Z"
        },
        "trusted": true,
        "id": "6WQoGkAZgVJN"
      },
      "execution_count": null,
      "outputs": []
    },
    {
      "cell_type": "markdown",
      "source": [
        "# **Visualization**\n",
        "- Images and their corresponding captions"
      ],
      "metadata": {
        "id": "QnOcl1PygVJO"
      }
    },
    {
      "cell_type": "code",
      "source": [
        "display_images(data.sample(15))"
      ],
      "metadata": {
        "execution": {
          "iopub.status.busy": "2022-08-23T11:23:27.978551Z",
          "iopub.execute_input": "2022-08-23T11:23:27.978905Z",
          "iopub.status.idle": "2022-08-23T11:23:29.509999Z",
          "shell.execute_reply.started": "2022-08-23T11:23:27.978871Z",
          "shell.execute_reply": "2022-08-23T11:23:29.505799Z"
        },
        "trusted": true,
        "id": "ZaL5q6gagVJO"
      },
      "execution_count": null,
      "outputs": []
    },
    {
      "cell_type": "markdown",
      "source": [
        "# **Caption Text Preprocessing Steps**\n",
        "- Convert sentences into lowercase\n",
        "- Remove special characters and numbers present in the text\n",
        "- Remove extra spaces\n",
        "- Remove single characters\n",
        "- Add a starting and an ending tag to the sentences to indicate the beginning and the ending of a sentence\n",
        "\n",
        "<img src='http://zjpnrm2br14wspo448nls17u-wpengine.netdna-ssl.com/wp-content/uploads/2020/09/processing-steps.png' >"
      ],
      "metadata": {
        "id": "Ml0BuY_IgVJO"
      }
    },
    {
      "cell_type": "code",
      "source": [
        "def text_preprocessing(data):\n",
        "    data['caption'] = data['caption'].apply(lambda x: x.lower())\n",
        "    data['caption'] = data['caption'].apply(lambda x: x.replace(\"[^A-Za-z]\",\"\"))\n",
        "    data['caption'] = data['caption'].apply(lambda x: x.replace(\"\\s+\",\" \"))\n",
        "    data['caption'] = data['caption'].apply(lambda x: \" \".join([word for word in x.split() if len(word)>1]))\n",
        "    data['caption'] = \"startseq \"+data['caption']+\" endseq\"\n",
        "    return data"
      ],
      "metadata": {
        "execution": {
          "iopub.status.busy": "2022-08-23T11:23:33.882355Z",
          "iopub.execute_input": "2022-08-23T11:23:33.883049Z",
          "iopub.status.idle": "2022-08-23T11:23:33.889484Z",
          "shell.execute_reply.started": "2022-08-23T11:23:33.883014Z",
          "shell.execute_reply": "2022-08-23T11:23:33.888501Z"
        },
        "trusted": true,
        "id": "1mbrE8owgVJP"
      },
      "execution_count": null,
      "outputs": []
    },
    {
      "cell_type": "markdown",
      "source": [
        "## __Preprocessed Text__"
      ],
      "metadata": {
        "id": "PsVbhQLBgVJP"
      }
    },
    {
      "cell_type": "code",
      "source": [
        "data = text_preprocessing(data)\n",
        "captions = data['caption'].tolist()\n",
        "captions[:10]"
      ],
      "metadata": {
        "execution": {
          "iopub.status.busy": "2022-08-23T11:25:32.612283Z",
          "iopub.execute_input": "2022-08-23T11:25:32.612695Z",
          "iopub.status.idle": "2022-08-23T11:25:32.775701Z",
          "shell.execute_reply.started": "2022-08-23T11:25:32.612663Z",
          "shell.execute_reply": "2022-08-23T11:25:32.774736Z"
        },
        "trusted": true,
        "id": "f22ZsQNTgVJP"
      },
      "execution_count": null,
      "outputs": []
    },
    {
      "cell_type": "markdown",
      "source": [
        "## __Tokenization and Encoded Representation__\n",
        "- The words in a sentence are separated/tokenized and encoded in a one hot representation\n",
        "- These encodings are then passed to the embeddings layer to generate word embeddings\n",
        "\n",
        "<img src='https://lena-voita.github.io/resources/lectures/word_emb/lookup_table.gif'>"
      ],
      "metadata": {
        "id": "RZbxFa7DgVJP"
      }
    },
    {
      "cell_type": "code",
      "source": [
        "tokenizer = Tokenizer()\n",
        "tokenizer.fit_on_texts(captions)\n",
        "vocab_size = len(tokenizer.word_index) + 1\n",
        "max_length = max(len(caption.split()) for caption in captions)\n",
        "\n",
        "images = data['image'].unique().tolist()\n",
        "nimages = len(images)\n",
        "\n",
        "split_index = round(0.85*nimages)\n",
        "train_images = images[:split_index]\n",
        "val_images = images[split_index:]\n",
        "\n",
        "train = data[data['image'].isin(train_images)]\n",
        "test = data[data['image'].isin(val_images)]\n",
        "\n",
        "train.reset_index(inplace=True,drop=True)\n",
        "test.reset_index(inplace=True,drop=True)\n",
        "\n",
        "tokenizer.texts_to_sequences([captions[1]])[0]"
      ],
      "metadata": {
        "execution": {
          "iopub.status.busy": "2022-08-23T11:25:33.019345Z",
          "iopub.execute_input": "2022-08-23T11:25:33.020096Z",
          "iopub.status.idle": "2022-08-23T11:25:33.712285Z",
          "shell.execute_reply.started": "2022-08-23T11:25:33.020062Z",
          "shell.execute_reply": "2022-08-23T11:25:33.711513Z"
        },
        "trusted": true,
        "id": "S3rLlyAHgVJP"
      },
      "execution_count": null,
      "outputs": []
    },
    {
      "cell_type": "markdown",
      "source": [
        "# **Image Feature Extraction**\n",
        "- DenseNet 201 Architecture is used to extract the features from the images\n",
        "- Any other pretrained architecture can also be used for extracting features from these images\n",
        "- Since the Global Average Pooling layer is selected as the final layer of the DenseNet201 model for our feature extraction, our image embeddings will be a vector of size 1920\n",
        "\n",
        "<img src=\"https://imgur.com/wWHWbQt.jpg\">"
      ],
      "metadata": {
        "id": "rXGpR6wlgVJP"
      }
    },
    {
      "cell_type": "code",
      "source": [
        "model = DenseNet201()\n",
        "fe = Model(inputs=model.input, outputs=model.layers[-2].output)\n",
        "\n",
        "img_size = 224\n",
        "features = {}\n",
        "for image in tqdm(data['image'].unique().tolist()):\n",
        "    img = load_img(os.path.join(image_path,image),target_size=(img_size,img_size))\n",
        "    img = img_to_array(img)\n",
        "    img = img/255.\n",
        "    img = np.expand_dims(img,axis=0)\n",
        "    feature = fe.predict(img, verbose=0)\n",
        "    features[image] = feature"
      ],
      "metadata": {
        "execution": {
          "iopub.status.busy": "2022-08-23T11:25:42.774961Z",
          "iopub.execute_input": "2022-08-23T11:25:42.77532Z",
          "iopub.status.idle": "2022-08-23T11:36:27.403085Z",
          "shell.execute_reply.started": "2022-08-23T11:25:42.77529Z",
          "shell.execute_reply": "2022-08-23T11:36:27.402258Z"
        },
        "trusted": true,
        "id": "_YinSmoNgVJP"
      },
      "execution_count": null,
      "outputs": []
    },
    {
      "cell_type": "markdown",
      "source": [
        "# **Data Generation**\n",
        "- Since Image Caption model training like any other neural network training is a highly resource utillizing process we cannot load the data into the main memory all at once, and hence we need to generate the data in the required format batch wise\n",
        "- The inputs will be the image embeddings and their corresonding caption text embeddings for the training process\n",
        "- The text embeddings are passed word by word for the caption generation during inference time"
      ],
      "metadata": {
        "id": "gMCMMvQEgVJP"
      }
    },
    {
      "cell_type": "code",
      "source": [
        "class CustomDataGenerator(Sequence):\n",
        "\n",
        "    def __init__(self, df, X_col, y_col, batch_size, directory, tokenizer,\n",
        "                 vocab_size, max_length, features,shuffle=True):\n",
        "\n",
        "        self.df = df.copy()\n",
        "        self.X_col = X_col\n",
        "        self.y_col = y_col\n",
        "        self.directory = directory\n",
        "        self.batch_size = batch_size\n",
        "        self.tokenizer = tokenizer\n",
        "        self.vocab_size = vocab_size\n",
        "        self.max_length = max_length\n",
        "        self.features = features\n",
        "        self.shuffle = shuffle\n",
        "        self.n = len(self.df)\n",
        "\n",
        "    def on_epoch_end(self):\n",
        "        if self.shuffle:\n",
        "            self.df = self.df.sample(frac=1).reset_index(drop=True)\n",
        "\n",
        "    def __len__(self):\n",
        "        return self.n // self.batch_size\n",
        "\n",
        "    def __getitem__(self,index):\n",
        "\n",
        "        batch = self.df.iloc[index * self.batch_size:(index + 1) * self.batch_size,:]\n",
        "        X1, X2, y = self.__get_data(batch)\n",
        "        return (X1, X2), y\n",
        "\n",
        "    def __get_data(self,batch):\n",
        "\n",
        "        X1, X2, y = list(), list(), list()\n",
        "\n",
        "        images = batch[self.X_col].tolist()\n",
        "\n",
        "        for image in images:\n",
        "            feature = self.features[image][0]\n",
        "\n",
        "            captions = batch.loc[batch[self.X_col]==image, self.y_col].tolist()\n",
        "            for caption in captions:\n",
        "                seq = self.tokenizer.texts_to_sequences([caption])[0]\n",
        "\n",
        "                for i in range(1,len(seq)):\n",
        "                    in_seq, out_seq = seq[:i], seq[i]\n",
        "                    in_seq = pad_sequences([in_seq], maxlen=self.max_length)[0]\n",
        "                    out_seq = to_categorical([out_seq], num_classes=self.vocab_size)[0]\n",
        "                    X1.append(feature)\n",
        "                    X2.append(in_seq)\n",
        "                    y.append(out_seq)\n",
        "\n",
        "        X1, X2, y = np.array(X1), np.array(X2), np.array(y)\n",
        "\n",
        "        return X1, X2, y"
      ],
      "metadata": {
        "execution": {
          "iopub.status.busy": "2022-08-23T11:37:08.818593Z",
          "iopub.execute_input": "2022-08-23T11:37:08.818967Z",
          "iopub.status.idle": "2022-08-23T11:37:08.831291Z",
          "shell.execute_reply.started": "2022-08-23T11:37:08.818929Z",
          "shell.execute_reply": "2022-08-23T11:37:08.830339Z"
        },
        "trusted": true,
        "id": "DOLNdIergVJP"
      },
      "execution_count": null,
      "outputs": []
    },
    {
      "cell_type": "markdown",
      "source": [
        "# **Modelling**\n",
        "- The image embedding representations are concatenated with the first word of sentence ie. starseq and passed to the LSTM network\n",
        "- The LSTM network starts generating words after each input thus forming a sentence at the end"
      ],
      "metadata": {
        "id": "ac3Z3OABgVJQ"
      }
    },
    {
      "cell_type": "markdown",
      "source": [
        "<img src='https://raw.githubusercontent.com/yunjey/pytorch-tutorial/master/tutorials/03-advanced/image_captioning/png/model.png'>"
      ],
      "metadata": {
        "id": "rd7jkPdhgVJQ"
      }
    },
    {
      "cell_type": "code",
      "source": [
        "input1 = Input(shape=(1920,))\n",
        "input2 = Input(shape=(max_length,))\n",
        "\n",
        "img_features = Dense(256, activation='relu')(input1)\n",
        "img_features_reshaped = Reshape((1, 256), input_shape=(256,))(img_features)\n",
        "\n",
        "sentence_features = Embedding(vocab_size, 256, mask_zero=False)(input2)\n",
        "merged = concatenate([img_features_reshaped,sentence_features],axis=1)\n",
        "sentence_features = LSTM(256)(merged)\n",
        "x = Dropout(0.5)(sentence_features)\n",
        "x = add([x, img_features])\n",
        "x = Dense(128, activation='relu')(x)\n",
        "x = Dropout(0.5)(x)\n",
        "output = Dense(vocab_size, activation='softmax')(x)\n",
        "\n",
        "caption_model = Model(inputs=[input1,input2], outputs=output)\n",
        "caption_model.compile(loss='categorical_crossentropy',optimizer='adam')"
      ],
      "metadata": {
        "execution": {
          "iopub.status.busy": "2022-08-23T11:37:09.708506Z",
          "iopub.execute_input": "2022-08-23T11:37:09.708941Z",
          "iopub.status.idle": "2022-08-23T11:37:10.019559Z",
          "shell.execute_reply.started": "2022-08-23T11:37:09.708906Z",
          "shell.execute_reply": "2022-08-23T11:37:10.018731Z"
        },
        "trusted": true,
        "id": "jqTunhaqgVJQ"
      },
      "execution_count": null,
      "outputs": []
    },
    {
      "cell_type": "code",
      "source": [
        "from tensorflow.keras.utils import plot_model"
      ],
      "metadata": {
        "execution": {
          "iopub.status.busy": "2022-08-23T11:37:10.268454Z",
          "iopub.execute_input": "2022-08-23T11:37:10.268931Z",
          "iopub.status.idle": "2022-08-23T11:37:10.276297Z",
          "shell.execute_reply.started": "2022-08-23T11:37:10.268887Z",
          "shell.execute_reply": "2022-08-23T11:37:10.275242Z"
        },
        "trusted": true,
        "id": "pJVEF7aGgVJQ"
      },
      "execution_count": null,
      "outputs": []
    },
    {
      "cell_type": "markdown",
      "source": [
        "## **Model Modification**\n",
        "- A slight change has been made in the original model architecture to push the performance. The image feature embeddings are added to the output of the LSTMs and then passed on to the fully connected layers\n",
        "- This slightly improves the performance of the model orignally proposed back in 2014: __Show and Tell: A Neural Image Caption Generator__ (https://arxiv.org/pdf/1411.4555.pdf)"
      ],
      "metadata": {
        "id": "pSgTGX_FgVJQ"
      }
    },
    {
      "cell_type": "code",
      "source": [
        "plot_model(caption_model)"
      ],
      "metadata": {
        "execution": {
          "iopub.status.busy": "2022-08-23T11:37:10.65206Z",
          "iopub.execute_input": "2022-08-23T11:37:10.652445Z",
          "iopub.status.idle": "2022-08-23T11:37:11.776979Z",
          "shell.execute_reply.started": "2022-08-23T11:37:10.652407Z",
          "shell.execute_reply": "2022-08-23T11:37:11.775955Z"
        },
        "trusted": true,
        "id": "cEuwRKLagVJQ"
      },
      "execution_count": null,
      "outputs": []
    },
    {
      "cell_type": "code",
      "source": [
        "caption_model.summary()"
      ],
      "metadata": {
        "execution": {
          "iopub.status.busy": "2022-08-23T11:37:11.779356Z",
          "iopub.execute_input": "2022-08-23T11:37:11.779788Z",
          "iopub.status.idle": "2022-08-23T11:37:11.787882Z",
          "shell.execute_reply.started": "2022-08-23T11:37:11.779746Z",
          "shell.execute_reply": "2022-08-23T11:37:11.787103Z"
        },
        "trusted": true,
        "id": "1ZpR75x4gVJQ"
      },
      "execution_count": null,
      "outputs": []
    },
    {
      "cell_type": "code",
      "source": [
        "train_generator = CustomDataGenerator(df=train,X_col='image',y_col='caption',batch_size=64,directory=image_path,\n",
        "                                      tokenizer=tokenizer,vocab_size=vocab_size,max_length=max_length,features=features)\n",
        "\n",
        "validation_generator = CustomDataGenerator(df=test,X_col='image',y_col='caption',batch_size=64,directory=image_path,\n",
        "                                      tokenizer=tokenizer,vocab_size=vocab_size,max_length=max_length,features=features)"
      ],
      "metadata": {
        "execution": {
          "iopub.status.busy": "2022-08-23T11:37:11.854997Z",
          "iopub.execute_input": "2022-08-23T11:37:11.855484Z",
          "iopub.status.idle": "2022-08-23T11:37:11.865903Z",
          "shell.execute_reply.started": "2022-08-23T11:37:11.85545Z",
          "shell.execute_reply": "2022-08-23T11:37:11.864905Z"
        },
        "trusted": true,
        "id": "WDwMx5WmgVJQ"
      },
      "execution_count": null,
      "outputs": []
    },
    {
      "cell_type": "code",
      "source": [
        "model_name = \"model.h5\"\n",
        "checkpoint = ModelCheckpoint(model_name,\n",
        "                            monitor=\"val_loss\",\n",
        "                            mode=\"min\",\n",
        "                            save_best_only = True,\n",
        "                            verbose=1)\n",
        "\n",
        "earlystopping = EarlyStopping(monitor='val_loss',min_delta = 0, patience = 5, verbose = 1, restore_best_weights=True)\n",
        "\n",
        "learning_rate_reduction = ReduceLROnPlateau(monitor='val_loss',\n",
        "                                            patience=3,\n",
        "                                            verbose=1,\n",
        "                                            factor=0.2,\n",
        "                                            min_lr=0.00000001)"
      ],
      "metadata": {
        "execution": {
          "iopub.status.busy": "2022-08-23T11:37:12.583779Z",
          "iopub.execute_input": "2022-08-23T11:37:12.584292Z",
          "iopub.status.idle": "2022-08-23T11:37:12.590643Z",
          "shell.execute_reply.started": "2022-08-23T11:37:12.584258Z",
          "shell.execute_reply": "2022-08-23T11:37:12.589422Z"
        },
        "trusted": true,
        "id": "MOlCH4SCgVJQ"
      },
      "execution_count": null,
      "outputs": []
    },
    {
      "cell_type": "markdown",
      "source": [
        "## **Let's train the Model !**\n",
        "\n",
        "<img src='https://miro.medium.com/max/1400/1*xIXqf46yYonSXkUOWcOCvg.gif'>"
      ],
      "metadata": {
        "id": "XIckafSJgVJQ"
      }
    },
    {
      "cell_type": "code",
      "source": [
        "history = caption_model.fit(\n",
        "        train_generator,\n",
        "        epochs=50,\n",
        "        validation_data=validation_generator,\n",
        "        callbacks=[checkpoint,earlystopping,learning_rate_reduction])"
      ],
      "metadata": {
        "execution": {
          "iopub.status.busy": "2022-08-23T11:37:12.817579Z",
          "iopub.execute_input": "2022-08-23T11:37:12.817939Z",
          "iopub.status.idle": "2022-08-23T11:52:23.539818Z",
          "shell.execute_reply.started": "2022-08-23T11:37:12.817909Z",
          "shell.execute_reply": "2022-08-23T11:52:23.538896Z"
        },
        "trusted": true,
        "id": "06adGXalgVJQ"
      },
      "execution_count": null,
      "outputs": []
    },
    {
      "cell_type": "markdown",
      "source": [
        "# **Inference**\n",
        "- Learning Curve (Loss Curve)\n",
        "- Assessment of Generated Captions (by checking the relevance of the caption with respect to the image, BLEU Score will not be used in this kernel)"
      ],
      "metadata": {
        "id": "bddBDt0fgVJQ"
      }
    },
    {
      "cell_type": "markdown",
      "source": [
        "## **Learning Curve**\n",
        "- The model has clearly overfit, possibly due to less amount of data\n",
        "- We can tackle this problem in two ways\n",
        "    1. Train the model on a larger dataset Flickr40k\n",
        "    2. Attention Models"
      ],
      "metadata": {
        "id": "BzFZY9BBgVJQ"
      }
    },
    {
      "cell_type": "code",
      "source": [
        "plt.figure(figsize=(20,8))\n",
        "plt.plot(history.history['loss'])\n",
        "plt.plot(history.history['val_loss'])\n",
        "plt.title('model loss')\n",
        "plt.ylabel('loss')\n",
        "plt.xlabel('epoch')\n",
        "plt.legend(['train', 'val'], loc='upper left')\n",
        "plt.show()"
      ],
      "metadata": {
        "execution": {
          "iopub.status.busy": "2022-08-23T11:52:36.643783Z",
          "iopub.execute_input": "2022-08-23T11:52:36.644163Z",
          "iopub.status.idle": "2022-08-23T11:52:54.616968Z",
          "shell.execute_reply.started": "2022-08-23T11:52:36.644131Z",
          "shell.execute_reply": "2022-08-23T11:52:54.616186Z"
        },
        "trusted": true,
        "id": "3ucvkl9_gVJQ"
      },
      "execution_count": null,
      "outputs": []
    },
    {
      "cell_type": "markdown",
      "source": [
        "## **Caption Generation Utility Functions**\n",
        "- Utility functions to generate the captions of input images at the inference time.\n",
        "- Here the image embeddings are passed along with the first word, followed by which the text embedding of each new word is passed to generate the next word"
      ],
      "metadata": {
        "id": "5HgEclRYgVJR"
      }
    },
    {
      "cell_type": "code",
      "source": [
        "def idx_to_word(integer,tokenizer):\n",
        "\n",
        "    for word, index in tokenizer.word_index.items():\n",
        "        if index==integer:\n",
        "            return word\n",
        "    return None"
      ],
      "metadata": {
        "execution": {
          "iopub.status.busy": "2022-08-23T11:52:54.618668Z",
          "iopub.execute_input": "2022-08-23T11:52:54.619208Z",
          "iopub.status.idle": "2022-08-23T11:52:54.624359Z",
          "shell.execute_reply.started": "2022-08-23T11:52:54.619169Z",
          "shell.execute_reply": "2022-08-23T11:52:54.623387Z"
        },
        "trusted": true,
        "id": "j2UEfoUqgVJR"
      },
      "execution_count": null,
      "outputs": []
    },
    {
      "cell_type": "code",
      "source": [
        "def predict_caption(model, image, tokenizer, max_length, features):\n",
        "\n",
        "    feature = features[image]\n",
        "    in_text = \"startseq\"\n",
        "    for i in range(max_length):\n",
        "        sequence = tokenizer.texts_to_sequences([in_text])[0]\n",
        "        sequence = pad_sequences([sequence], max_length)\n",
        "\n",
        "        y_pred = model.predict([feature,sequence])\n",
        "        y_pred = np.argmax(y_pred)\n",
        "\n",
        "        word = idx_to_word(y_pred, tokenizer)\n",
        "\n",
        "        if word is None:\n",
        "            break\n",
        "\n",
        "        in_text+= \" \" + word\n",
        "\n",
        "        if word == 'endseq':\n",
        "            break\n",
        "\n",
        "    return in_text"
      ],
      "metadata": {
        "execution": {
          "iopub.status.busy": "2022-08-23T11:52:54.625803Z",
          "iopub.execute_input": "2022-08-23T11:52:54.626208Z",
          "iopub.status.idle": "2022-08-23T11:52:54.635105Z",
          "shell.execute_reply.started": "2022-08-23T11:52:54.626153Z",
          "shell.execute_reply": "2022-08-23T11:52:54.634224Z"
        },
        "trusted": true,
        "id": "hI30h6yvgVJR"
      },
      "execution_count": null,
      "outputs": []
    },
    {
      "cell_type": "markdown",
      "source": [
        "## **Taking 15 Random Samples for Caption Prediction**"
      ],
      "metadata": {
        "id": "eXB6hgt6gVJR"
      }
    },
    {
      "cell_type": "code",
      "source": [
        "samples = test.sample(15)\n",
        "samples.reset_index(drop=True,inplace=True)"
      ],
      "metadata": {
        "execution": {
          "iopub.status.busy": "2022-08-23T11:53:17.519194Z",
          "iopub.execute_input": "2022-08-23T11:53:17.519766Z",
          "iopub.status.idle": "2022-08-23T11:53:17.528148Z",
          "shell.execute_reply.started": "2022-08-23T11:53:17.519727Z",
          "shell.execute_reply": "2022-08-23T11:53:17.526393Z"
        },
        "trusted": true,
        "id": "GarXNvEPgVJR"
      },
      "execution_count": null,
      "outputs": []
    },
    {
      "cell_type": "code",
      "source": [
        "for index,record in samples.iterrows():\n",
        "\n",
        "    img = load_img(os.path.join(image_path,record['image']),target_size=(224,224))\n",
        "    img = img_to_array(img)\n",
        "    img = img/255.\n",
        "\n",
        "    caption = predict_caption(caption_model, record['image'], tokenizer, max_length, features)\n",
        "    samples.loc[index,'caption'] = caption"
      ],
      "metadata": {
        "execution": {
          "iopub.status.busy": "2022-08-23T11:53:47.559188Z",
          "iopub.execute_input": "2022-08-23T11:53:47.559724Z",
          "iopub.status.idle": "2022-08-23T11:53:54.421752Z",
          "shell.execute_reply.started": "2022-08-23T11:53:47.559692Z",
          "shell.execute_reply": "2022-08-23T11:53:54.420902Z"
        },
        "trusted": true,
        "id": "C2-Op72TgVJS"
      },
      "execution_count": null,
      "outputs": []
    },
    {
      "cell_type": "markdown",
      "source": [
        "# **Results**\n",
        "- As we can clearly see there is some redundant caption generation e.g. Dog running through the water, overusage of blue shirt for any other coloured cloth\n",
        "- The model performance can be further improved by training on more data and using attention mechanism so that our model can focus on relevant areas during the text generation\n",
        "- We can also leverage the interprettability of the attention mechanism to understand which areas of the image leads to the generation of which word"
      ],
      "metadata": {
        "id": "6J_vFxUfgVJW"
      }
    },
    {
      "cell_type": "code",
      "source": [
        "display_images(samples)"
      ],
      "metadata": {
        "execution": {
          "iopub.status.busy": "2022-08-23T11:53:56.391394Z",
          "iopub.execute_input": "2022-08-23T11:53:56.391764Z",
          "iopub.status.idle": "2022-08-23T11:53:57.852139Z",
          "shell.execute_reply.started": "2022-08-23T11:53:56.391734Z",
          "shell.execute_reply": "2022-08-23T11:53:57.851198Z"
        },
        "trusted": true,
        "id": "sFowOps7gVJW"
      },
      "execution_count": null,
      "outputs": []
    },
    {
      "cell_type": "markdown",
      "source": [
        "<p style='font-size: 18px'><strong>Conclusion: </strong>This may not be the best performing model, but the objective of this kernel is to give a gist of how Image Captioning problems can be approached. In the future work of this kernel <strong>Attention model</strong> training and <strong>BLEU Score</strong> assessment will be performed.</p>"
      ],
      "metadata": {
        "id": "4dAjHe8LgVJW"
      }
    }
  ]
}